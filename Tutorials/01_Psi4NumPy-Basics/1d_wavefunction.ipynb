{
 "cells": [
  {
   "cell_type": "code",
   "execution_count": 1,
   "metadata": {
    "collapsed": true,
    "run_control": {
     "frozen": false,
     "read_only": false
    }
   },
   "outputs": [],
   "source": [
    "# ==> Basic Options <==\n",
    "import psi4\n",
    "import numpy as np\n",
    "\n",
    "# Memory & Output File\n",
    "psi4.set_memory(int(2e9))\n",
    "psi4.core.set_output_file('output.dat', False)\n",
    "\n",
    "# Computation options\n",
    "psi4.set_options({'basis': 'aug-cc-pvdz',\n",
    "                  'scf_type': 'df',\n",
    "                  'e_convergence': 1e-8,\n",
    "                  'd_convergence': 1e-8})\n",
    "\n",
    "# ==> Define C_1 Water Molecule <==\n",
    "h2o = psi4.geometry(\"\"\"\n",
    "O\n",
    "H 1 0.96\n",
    "H 1 0.96 2 104.5\n",
    "symmetry c1\n",
    "\"\"\")"
   ]
  },
  {
   "cell_type": "markdown",
   "metadata": {
    "run_control": {
     "frozen": false,
     "read_only": false
    }
   },
   "source": [
    "手动构建最精髓的波函数，只需给定：\n",
    "\n",
    "- 结构\n",
    "- 基底\n"
   ]
  },
  {
   "cell_type": "code",
   "execution_count": 7,
   "metadata": {
    "collapsed": true,
    "run_control": {
     "frozen": false,
     "read_only": false
    }
   },
   "outputs": [
    {
     "data": {
      "text/plain": [
       "5"
      ]
     },
     "execution_count": 7,
     "metadata": {},
     "output_type": "execute_result"
    }
   ],
   "source": [
    "# ==> Build wavefunction for H2O from scratch with Wavefunction.build() <==\n",
    "h2o_wfn = psi4.core.Wavefunction.build(h2o, psi4.core.get_global_option('basis'))\n",
    "h2o_wfn.nalpha()"
   ]
  },
  {
   "cell_type": "markdown",
   "metadata": {
    "run_control": {
     "frozen": false,
     "read_only": false
    }
   },
   "source": [
    "现在的波函数空有外壳，没有实际的数据，必须完成一轮计算后才会有数据"
   ]
  },
  {
   "cell_type": "code",
   "execution_count": 9,
   "metadata": {
    "collapsed": false,
    "run_control": {
     "frozen": false,
     "read_only": false
    }
   },
   "outputs": [
    {
     "name": "stdout",
     "output_type": "stream",
     "text": [
      "A float and a Wavefunction object returned: -76.04123648669083 <psi4.core.RHF object at 0x0000016B1480A030>\n"
     ]
    }
   ],
   "source": [
    "# Get the SCF wavefunction & energies for H2O\n",
    "scf_e, scf_wfn = psi4.energy('scf', return_wfn=True)\n",
    "print(\"A float and a Wavefunction object returned:\", scf_e, scf_wfn)"
   ]
  },
  {
   "cell_type": "markdown",
   "metadata": {
    "collapsed": true,
    "run_control": {
     "frozen": false,
     "read_only": false
    }
   },
   "source": [
    "Now, we can access information you would expect a wavefunction to carry — basically everything we couldn't before.\n",
    "Below is summarized several quantities which will be used throughout the modules and tutorials to come.  All these  wavefunction attributes are available after a Hartree–Fock computation; make sure to try them out on our `scf_wfn`!\n",
    "\n",
    "| Quantity | Function(s) | Description |\n",
    "|----------|-------------|-------------|\n",
    "| Orbital Coefficients, **C** | [wfn.Ca()](http://psicode.org/psi4manual/master/psi4api.html#psi4.core.Wavefunction.Ca \"Go to Documentation\"), [wfn.Cb()](http://psicode.org/psi4manual/master/psi4api.html#psi4.core.Wavefunction.Cb \"Go to Documentation\") | Returns orbital coefficient matrix for $\\alpha$ (Ca) or $\\beta$ (Cb) orbitals. (Identical for restricted orbitals) |\n",
    "| Electron Density, **D** | [wfn.Da()](http://psicode.org/psi4manual/master/psi4api.html#psi4.core.Wavefunction.Da \"Go to Documentation\"), [wfn.Db()](http://psicode.org/psi4manual/master/psi4api.html#psi4.core.Wavefunction.Db \"Go to Documentation\") | One-particle density matrices for $\\alpha$ (Da) and $\\beta$ (Db) electrons. (Identical for restricted orbitals) |\n",
    "| Fock Matrix, **F** | [wfn.Fa()](http://psicode.org/psi4manual/master/psi4api.html#psi4.core.Wavefunction.Fa \"Go to Documentation\"), [wfn.Fb()](http://psicode.org/psi4manual/master/psi4api.html#psi4.core.Wavefunction.Fb \"Go to Documentation\") | Returns the Fock matrix. For wavefunction with unrestricted orbitals, distinct Fock matrices $F^{\\alpha}$ and $F^{\\beta}$ for $\\alpha$ and $\\beta$ orbitals, respectively, are created.|\n",
    "| Basis Set | [wfn.basisset()](http://psicode.org/psi4manual/master/psi4api.html#psi4.core.Wavefunction.basisset \"Go to Documentation\") | Returns basis set associated with the wavefunction. |\n",
    "| $\\alpha$ ($\\beta$) electrons | [wfn.nalpha()](http://psicode.org/psi4manual/master/psi4api.html#psi4.core.Wavefunction.nalpha \"Go to Documentation\"), [wfn.nbeta()](http://psicode.org/psi4manual/master/psi4api.html#psi4.core.Wavefunction.nbeta \"Go to Documentation\") | Returns number of $\\alpha$ ($\\beta$) electrons of the wavefunction. |\n",
    "| Irreducible Representations | [wfn.nirrep()](http://psicode.org/psi4manual/master/psi4api.html#psi4.core.Wavefunction.nirrep \"Go to Documentation\") | Returns number of irreducible representations (number of symmetry elements). Several objects can utilize molecular symmetry in the wavefunction. |\n",
    "| Occupied Orbitals | [wfn.doccpi()](http://psicode.org/psi4manual/master/psi4api.html#psi4.core.Wavefunction.doccpi \"Go to Documentation\") | Returns number of doubly occupied orbitals per irrep in the wavefunction. |\n",
    "| Psi Variables | [wfn.variables()](http://psicode.org/psi4manual/master/psi4api.html#psi4.core.Wavefunction.variables \"Go to Documentation\") | Returns all Psi variables associated with the method which computed the wavefunction. |\n",
    "| Energy   | [wfn.energy()](http://psicode.org/psi4manual/master/psi4api.html#psi4.core.Wavefunction.energy \"Go to Documentation\") | Returns current energy of the wavefunction. |\n",
    "| Orbital Energies, $\\boldsymbol{\\epsilon}$ | [wfn.epsilon_a()](http://psicode.org/psi4manual/master/psi4api.html#psi4.core.Wavefunction.epsilon_a \"Go to Documentation\"), [wfn.epsilon_b()](http://psicode.org/psi4manual/master/psi4api.html#psi4.core.Wavefunction.epsilon_b \"Go to Documentation\") | Returns $\\alpha$ (a) and $\\beta$ (b) orbital energies. (Identical for restricted orbitals) |\n",
    "\n",
    "Note: The functions returning any of the matrices mentioned above (**C**, **D**, $\\boldsymbol{\\epsilon}$), actually\n",
    "return instances of the `psi4.core.Matrix` class (noticing a pattern here?) and not viewable arrays.  Fortunately,\n",
    "the previous tutorial introduced how to modify these arrays Python-side, using NumPy views created through `np.asarray()`\n",
    "or `.np`.\n",
    "\n",
    "The full list is quite extensive; however, this likely comprises the most utilized functions. It should be noted that the \"a\" stands for alpha and conversely the beta quantities can be accessed with the letter \"b\". For now let's ensure that all computations have C1 symmetry; molecular symmetry can be utilized in Psi4NumPy computations but adds significant complexity to the code."
   ]
  },
  {
   "cell_type": "code",
   "execution_count": 16,
   "metadata": {
    "collapsed": true,
    "run_control": {
     "frozen": false,
     "read_only": false
    }
   },
   "outputs": [
    {
     "name": "stdout",
     "output_type": "stream",
     "text": [
      "ao_to_shell\n",
      "blend\n",
      "build\n",
      "compute_phi\n",
      "construct_from_pydict\n",
      "ecp_shell\n",
      "ecp_shell_on_center\n",
      "function_to_center\n",
      "function_to_shell\n",
      "genbas\n",
      "has_ECP\n",
      "has_puream\n",
      "make_filename\n",
      "max_am\n",
      "max_function_per_shell\n",
      "max_nprimitive\n",
      "molecule\n",
      "move_atom\n",
      "n_ecp_core\n",
      "n_ecp_shell_on_center\n",
      "n_frozen_core\n",
      "name\n",
      "nao\n",
      "nbf\n",
      "nprimitive\n",
      "nshell\n",
      "nshell_on_center\n",
      "print_detail_out\n",
      "print_out\n",
      "shell\n",
      "shell_on_center\n",
      "shell_to_ao_function\n",
      "shell_to_basis_function\n",
      "shell_to_center\n",
      "zero_ao_basis_set\n",
      "There are 35 member functions in the Wavefunction class.\n"
     ]
    }
   ],
   "source": [
    "# Try out the wavefunction class member functions!\n",
    "count = 0\n",
    "for prop in dir(scf_wfn.basisset()):\n",
    "    if prop.startswith('__'):\n",
    "        continue\n",
    "    print(prop)\n",
    "    count += 1\n",
    "print('There are %d member functions in the Wavefunction class.' % count)"
   ]
  }
 ],
 "metadata": {
  "kernelspec": {
   "display_name": "psi4conda",
   "language": "python",
   "name": "python3"
  },
  "language_info": {
   "codemirror_mode": {
    "name": "ipython",
    "version": 3
   },
   "file_extension": ".py",
   "mimetype": "text/x-python",
   "name": "python",
   "nbconvert_exporter": "python",
   "pygments_lexer": "ipython3",
   "version": "3.11.3"
  },
  "latex_envs": {
   "LaTeX_envs_menu_present": true,
   "bibliofile": "biblio.bib",
   "cite_by": "apalike",
   "current_citInitial": 1,
   "eqLabelWithNumbers": true,
   "eqNumInitial": 1,
   "labels_anchors": false,
   "latex_user_defs": false,
   "report_style_numbering": false,
   "user_envs_cfg": false
  }
 },
 "nbformat": 4,
 "nbformat_minor": 0
}
