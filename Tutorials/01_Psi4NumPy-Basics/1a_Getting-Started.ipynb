{
 "cells": [
  {
   "cell_type": "code",
   "execution_count": null,
   "metadata": {
    "collapsed": false
   },
   "outputs": [],
   "source": [
    "import psi4\n",
    "import numpy as np"
   ]
  },
  {
   "cell_type": "markdown",
   "metadata": {},
   "source": [
    "### Direct output and scratch\n",
    "\n",
    "* Output goes to file ``output.dat``\n",
    "* Boolean directs overwriting (`True`) rather than appending (`False`).\n",
    "* Optionally, redirect scratch away from ``/tmp`` to existing, writable directory"
   ]
  },
  {
   "cell_type": "code",
   "execution_count": null,
   "metadata": {
    "collapsed": true
   },
   "outputs": [],
   "source": [
    "psi4.set_output_file(\"output.dat\", True)\n",
    "\n",
    "# optional\n",
    "psi4.core.IOManager.shared_object().set_default_path(\"/scratch\")"
   ]
  },
  {
   "cell_type": "markdown",
   "metadata": {},
   "source": [
    "### Set memory limits\n",
    "\n",
    "* Give 500 Mb of memory to <span style=\"font-family: Optima, sans-serif; color: #273896;\">P<span style=\"font-size: 82%;\">SI</span>4</span>\n",
    "* Give 2 Gb of memory for NumPy arrays (quantity for Psi4NumPy project, *not* passed to NumPy)\n",
    "* Sum of these two should nowhere approach the RAM of your computer"
   ]
  },
  {
   "cell_type": "code",
   "execution_count": null,
   "metadata": {
    "collapsed": true
   },
   "outputs": [],
   "source": [
    "psi4.set_memory(int(5e8))\n",
    "numpy_memory = 2"
   ]
  },
  {
   "cell_type": "markdown",
   "metadata": {},
   "source": [
    "### Molecule and Basis\n",
    "\n",
    "* Covered in detail in subsequent tutorials. This is the quick reference\n",
    "* Running _without_ symmetry recommended in Psi4NumPy for simplest expressions"
   ]
  },
  {
   "cell_type": "code",
   "execution_count": null,
   "metadata": {
    "collapsed": true
   },
   "outputs": [],
   "source": [
    "psi4.geometry(\"\"\"\n",
    "O 0.0 0.0 0.0 \n",
    "H 1.0 0.0 0.0\n",
    "H 0.0 1.0 0.0\n",
    "symmetry c1\n",
    "\"\"\")\n",
    "\n",
    "psi4.set_options({'basis': 'cc-pvdz'})"
   ]
  }
 ],
 "metadata": {
  "kernelspec": {
   "display_name": "Python [Root]",
   "language": "python",
   "name": "Python [Root]"
  },
  "language_info": {
   "codemirror_mode": {
    "name": "ipython",
    "version": 2
   },
   "file_extension": ".py",
   "mimetype": "text/x-python",
   "name": "python",
   "nbconvert_exporter": "python",
   "pygments_lexer": "ipython2",
   "version": "2.7.12"
  }
 },
 "nbformat": 4,
 "nbformat_minor": 0
}
