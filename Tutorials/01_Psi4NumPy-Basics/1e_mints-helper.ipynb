{
 "cells": [
  {
   "cell_type": "markdown",
   "metadata": {},
   "source": [
    "本章小结：\n",
    "\n",
    "- 内建积分模块\n",
    "- 内存消耗\n",
    "\n",
    "# MintsHelper: Generating 1- and 2-electron Integrals with <span style='font-variant: small-caps'> Psi4 </span>\n",
    "\n",
    "In all of quantum chemistry, one process which is common to nearly every method is the evaluation of one-\n",
    "and two-electron integrals.  Fortunately, we can leverage infrastructure in <span style='font-variant: small-caps'> \n",
    "Psi4 </span> to perform this task for us.  This tutorial will discuss the [``psi4.core.MintsHelper``](http://psicode.org/psi4manual/master/psi4api.html#psi4.core.MintsHelper \"Go to API\") class, which is an\n",
    "interface for the powerful Psi4 ``libmints`` library which wraps the `libint` library, where these integrals are actually computed.  "
   ]
  },
  {
   "cell_type": "code",
   "execution_count": 4,
   "metadata": {
    "collapsed": true
   },
   "outputs": [],
   "source": [
    "# ==> Setup <==\n",
    "# Import statements\n",
    "import psi4\n",
    "import numpy as np\n",
    "\n",
    "# Memory & Output file\n",
    "psi4.set_memory(int(2e9))\n",
    "numpy_memory = 2\n",
    "psi4.core.set_output_file('output.dat', False)\n",
    "\n",
    "# Molecule definition\n",
    "h2o = psi4.geometry(\"\"\"\n",
    "O\n",
    "H 1 0.96\n",
    "H 1 0.96 2 104.5\n",
    "\"\"\")\n",
    "\n",
    "# Basis Set\n",
    "psi4.set_options({'basis': 'cc-pvdz'})\n",
    "\n",
    "# ==> Build MintsHelper Instance <==\n",
    "# Build new wavefunction\n",
    "wfn = psi4.core.Wavefunction.build(h2o, psi4.core.get_global_option('basis'))\n",
    "\n",
    "# Initialize MintsHelper with wavefunction's basis set\n",
    "mints = psi4.core.MintsHelper(wfn.basisset())"
   ]
  },
  {
   "cell_type": "markdown",
   "metadata": {},
   "source": [
    "Below are summarized several commonly computed quantities and how to obtain them using a `MintsHelper` class method:\n",
    "\n",
    "| Quantity | Function | Description |\n",
    "|----------|----------|-------------|\n",
    "| AO Overlap integrals | [mints.ao_overlap()](http://psicode.org/psi4manual/master/psi4api.html#psi4.core.MintsHelper.ao_overlap \"Go to Documentation\") | Returns AO overlap matrix as a `psi4.core.Matrix` object |\n",
    "| AO Kinetic Energy | [mints.ao_kinetic()](http://psicode.org/psi4manual/master/psi4api.html#psi4.core.MintsHelper.ao_kinetic \"Go to Documentation\") | Returns AO kinetic energy matrix as a `psi4.core.Matrix` object |\n",
    "| AO Potential Energy | [mints.ao_potential()](http://psicode.org/psi4manual/master/psi4api.html#psi4.core.MintsHelper.ao_potential \"Go to Documentation\") | Returns AO potential energy matrix as a `psi4.core.Matrix` object |\n",
    "| AO Electron Repulsion Integrals | [mints.ao_eri()](http://psicode.org/psi4manual/master/psi4api.html#psi4.core.MintsHelper.ao_eri \"Go to Documentation\") | Returns AO electron repulsion integrals as a `psi4.core.Matrix` object \n",
    "\n",
    "As discussed previously, any of these `psi4.core.Matrix` objects can be accessed as NumPy arrays, which is the preferred \n",
    "method in Psi4NumPy.  For a Psi4 matrix `A`, we can access a NumPy view using `np.asarray(A)` or `A.np`, or we can make a\n",
    "copy of the matrix using `np.array(A)`.  This works as one would expect, converting square matrices into rank-2 NumPy \n",
    "arrays, for the overlap (S), kinetic energy (T), and potential energy (V) matrices.  In Psi4, the electron repulsion integrals \n",
    "(ERIs) are handled somewhat differently; `mints.ao_eri()` returns the rank-4 ERI tensor packed into a 2D matrix.  If the \n",
    "four indices of the ERI are p, q, r, s, then this element of the Psi4 Matrix can be accessed by first computing composite \n",
    "indices `pq = p * nbf + q` and `rs = r * nbf + s`, and then accessing element `A.get(pq,rs)`.  However, for convenience, \n",
    "the NumPy view is a rank-4 tensor, and a particular ERI is more simply accessed like this:\n",
    "~~~python\n",
    "I = np.asarray(mints.ao_eri())\n",
    "val = I[p][q][r][s]\n",
    "~~~\n",
    "\n",
    "In addition to these methods, another which is worth mentioning is the [`MintsHelper.mo_eri()`](http://psicode.org/psi4manual/master/psi4api.html#psi4.core.MintsHelper.mo_eri) function, which can transform \n",
    "the four-index, two-electron repulsion integrals from the atomic orbital (AO) to the molecular orbital (MO) basis,\n",
    "which will be important in MP2 theory.  \n",
    "\n",
    "## Memory Considerations\n",
    "\n",
    "The storage space required by the two-index AO overlap integrals and four-index ERIs scales as ${\\cal O}(N^2)$ \n",
    "and ${\\cal O}(N^4)$, respectively, where $N$ is the number of AO basis functions.  This means that for a\n",
    "system with 500 AO basis functions, while the AO overlap integrals will only require 1 MB of memory to store,\n",
    "the ERIs will require a staggering **500 GB** of memory!! This can be reduced to **62.5 GB** of memory if integral permutational symmetry is used. However, this complicates the bookkeeping, and is not used in the `mints` functions discussed above. \n",
    "\n",
    "演示一般使用 < 50个原子轨道 \n",
    "\n",
    "## Examples: AO Overlap, AO ERIs, Core Hamiltonian\n",
    "The cell below demonstrates obtaining the AO overlap integrals, conducting the\n",
    "above memory check, and computing the ERIs and core Hamiltonian matrix for our water molecule."
   ]
  },
  {
   "cell_type": "code",
   "execution_count": null,
   "metadata": {
    "collapsed": false
   },
   "outputs": [],
   "source": [
    "# ==> Integrals galore! <==\n",
    "# AO Overlap\n",
    "S = np.asarray(mints.ao_overlap())\n",
    "\n",
    "# Number of basis functions\n",
    "nbf = S.shape[0]\n",
    "\n",
    "# Memory check\n",
    "I_size = (nbf ** 4) * 8.e-9\n",
    "print('Size of the ERI tensor will be %4.2f GB.' % (I_size))\n",
    "memory_footprint = I_size * 1.5\n",
    "if I_size > numpy_memory:\n",
    "    psi4.core.clean()\n",
    "    raise Exception(\"Estimated memory utilization (%4.2f GB) exceeds allotted memory \\\n",
    "                     limit of %4.2f GB.\" % (memory_footprint, numpy_memory))\n",
    "\n",
    "# Compute AO-basis ERIs\n",
    "I = mints.ao_eri()\n",
    "\n",
    "# Compute AO Core Hamiltonian\n",
    "T = np.asarray(mints.ao_kinetic())\n",
    "V = np.asarray(mints.ao_potential())\n",
    "H = T + V"
   ]
  }
 ],
 "metadata": {
  "anaconda-cloud": {},
  "kernelspec": {
   "display_name": "p4env",
   "language": "python",
   "name": "python3"
  },
  "language_info": {
   "codemirror_mode": {
    "name": "ipython",
    "version": 3
   },
   "file_extension": ".py",
   "mimetype": "text/x-python",
   "name": "python",
   "nbconvert_exporter": "python",
   "pygments_lexer": "ipython3",
   "version": "3.8.17"
  },
  "latex_envs": {
   "LaTeX_envs_menu_present": true,
   "bibliofile": "biblio.bib",
   "cite_by": "apalike",
   "current_citInitial": 1,
   "eqLabelWithNumbers": true,
   "eqNumInitial": 1,
   "labels_anchors": false,
   "latex_user_defs": false,
   "report_style_numbering": false,
   "user_envs_cfg": false
  }
 },
 "nbformat": 4,
 "nbformat_minor": 0
}
